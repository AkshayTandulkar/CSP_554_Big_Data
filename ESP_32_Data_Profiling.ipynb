{
 "cells": [
  {
   "cell_type": "code",
   "execution_count": 59,
   "id": "9b9748b9",
   "metadata": {},
   "outputs": [],
   "source": [
    "import numpy as np\n",
    "import pandas as pd\n",
    "import matplotlib.pyplot as plt\n",
    "import seaborn as sns\n",
    "import missingno as msno"
   ]
  },
  {
   "cell_type": "code",
   "execution_count": 3,
   "id": "7dd6fce2",
   "metadata": {},
   "outputs": [],
   "source": [
    "df = pd.read_csv(r\"C:/E_Drive/Spring_22/CSP_554_Big_Data/Final_Project/Project_report_final/esp_32_dynamo_db.csv\")"
   ]
  },
  {
   "cell_type": "code",
   "execution_count": 4,
   "id": "3f6b113c",
   "metadata": {},
   "outputs": [
    {
     "data": {
      "text/html": [
       "<div>\n",
       "<style scoped>\n",
       "    .dataframe tbody tr th:only-of-type {\n",
       "        vertical-align: middle;\n",
       "    }\n",
       "\n",
       "    .dataframe tbody tr th {\n",
       "        vertical-align: top;\n",
       "    }\n",
       "\n",
       "    .dataframe thead th {\n",
       "        text-align: right;\n",
       "    }\n",
       "</style>\n",
       "<table border=\"1\" class=\"dataframe\">\n",
       "  <thead>\n",
       "    <tr style=\"text-align: right;\">\n",
       "      <th></th>\n",
       "      <th>ts</th>\n",
       "      <th>Humidity</th>\n",
       "      <th>TDS</th>\n",
       "      <th>Temperature</th>\n",
       "    </tr>\n",
       "  </thead>\n",
       "  <tbody>\n",
       "    <tr>\n",
       "      <th>0</th>\n",
       "      <td>1.650000e+12</td>\n",
       "      <td>11</td>\n",
       "      <td>73</td>\n",
       "      <td>46.200001</td>\n",
       "    </tr>\n",
       "    <tr>\n",
       "      <th>1</th>\n",
       "      <td>1.650000e+12</td>\n",
       "      <td>33</td>\n",
       "      <td>885</td>\n",
       "      <td>36.900002</td>\n",
       "    </tr>\n",
       "    <tr>\n",
       "      <th>2</th>\n",
       "      <td>1.650000e+12</td>\n",
       "      <td>42</td>\n",
       "      <td>966</td>\n",
       "      <td>31.799999</td>\n",
       "    </tr>\n",
       "    <tr>\n",
       "      <th>3</th>\n",
       "      <td>1.650000e+12</td>\n",
       "      <td>31</td>\n",
       "      <td>999</td>\n",
       "      <td>29.299999</td>\n",
       "    </tr>\n",
       "    <tr>\n",
       "      <th>4</th>\n",
       "      <td>1.650000e+12</td>\n",
       "      <td>31</td>\n",
       "      <td>904</td>\n",
       "      <td>35.200001</td>\n",
       "    </tr>\n",
       "  </tbody>\n",
       "</table>\n",
       "</div>"
      ],
      "text/plain": [
       "             ts  Humidity  TDS  Temperature\n",
       "0  1.650000e+12        11   73    46.200001\n",
       "1  1.650000e+12        33  885    36.900002\n",
       "2  1.650000e+12        42  966    31.799999\n",
       "3  1.650000e+12        31  999    29.299999\n",
       "4  1.650000e+12        31  904    35.200001"
      ]
     },
     "execution_count": 4,
     "metadata": {},
     "output_type": "execute_result"
    }
   ],
   "source": [
    "df.head()"
   ]
  },
  {
   "cell_type": "markdown",
   "id": "4017d963",
   "metadata": {},
   "source": [
    "#  1. min, max, mean and SD of numeric fields"
   ]
  },
  {
   "cell_type": "markdown",
   "id": "a9fde7c0",
   "metadata": {},
   "source": [
    "## Humidity"
   ]
  },
  {
   "cell_type": "code",
   "execution_count": 8,
   "id": "2ce58c56",
   "metadata": {},
   "outputs": [
    {
     "data": {
      "text/plain": [
       "amin      10.000000\n",
       "amax      54.000000\n",
       "mean      30.332558\n",
       "std        7.893123\n",
       "median    32.000000\n",
       "Name: Humidity, dtype: float64"
      ]
     },
     "execution_count": 8,
     "metadata": {},
     "output_type": "execute_result"
    }
   ],
   "source": [
    "df['Humidity'].agg([np.min, np.max, np.mean, np.std, np.median])"
   ]
  },
  {
   "cell_type": "markdown",
   "id": "348f2e82",
   "metadata": {},
   "source": [
    "# TDS"
   ]
  },
  {
   "cell_type": "code",
   "execution_count": 9,
   "id": "751d1ebe",
   "metadata": {},
   "outputs": [
    {
     "data": {
      "text/plain": [
       "amin         0.000000\n",
       "amax      1061.000000\n",
       "mean       605.733721\n",
       "std        428.615520\n",
       "median     879.000000\n",
       "Name: TDS, dtype: float64"
      ]
     },
     "execution_count": 9,
     "metadata": {},
     "output_type": "execute_result"
    }
   ],
   "source": [
    "df['TDS'].agg([np.min, np.max, np.mean, np.std, np.median])"
   ]
  },
  {
   "cell_type": "markdown",
   "id": "cdf0e68d",
   "metadata": {},
   "source": [
    "## Temperature"
   ]
  },
  {
   "cell_type": "code",
   "execution_count": 10,
   "id": "5f2ecba6",
   "metadata": {},
   "outputs": [
    {
     "data": {
      "text/plain": [
       "amin      26.700001\n",
       "amax      48.200001\n",
       "mean      32.935465\n",
       "std        5.437552\n",
       "median    31.799999\n",
       "Name: Temperature, dtype: float64"
      ]
     },
     "execution_count": 10,
     "metadata": {},
     "output_type": "execute_result"
    }
   ],
   "source": [
    "df['Temperature'].agg([np.min, np.max, np.mean, np.std, np.median])"
   ]
  },
  {
   "cell_type": "markdown",
   "id": "ee7d2d41",
   "metadata": {},
   "source": [
    "# 2. How do such values group - how many are between 1 and 10, 10 and 20, etc"
   ]
  },
  {
   "cell_type": "markdown",
   "id": "fa8471ba",
   "metadata": {},
   "source": [
    "## Humidity"
   ]
  },
  {
   "cell_type": "code",
   "execution_count": 47,
   "id": "c5d49f43",
   "metadata": {},
   "outputs": [],
   "source": [
    "bins = [0, 1, 10, 20, 30, 40, 50, 60]\n",
    "df['hum_binned'] = pd.cut(df['Humidity'], bins)"
   ]
  },
  {
   "cell_type": "code",
   "execution_count": 48,
   "id": "1ced9609",
   "metadata": {},
   "outputs": [
    {
     "data": {
      "text/plain": [
       "(0, 1]        0\n",
       "(1, 10]       6\n",
       "(50, 60]      6\n",
       "(40, 50]     27\n",
       "(10, 20]    114\n",
       "(20, 30]    192\n",
       "(30, 40]    515\n",
       "Name: hum_binned, dtype: int64"
      ]
     },
     "execution_count": 48,
     "metadata": {},
     "output_type": "execute_result"
    }
   ],
   "source": [
    "df['hum_binned'].value_counts().sort_values(ascending=True)"
   ]
  },
  {
   "cell_type": "markdown",
   "id": "9266bf09",
   "metadata": {},
   "source": [
    "## TDS"
   ]
  },
  {
   "cell_type": "code",
   "execution_count": 53,
   "id": "f83560e4",
   "metadata": {},
   "outputs": [],
   "source": [
    "bins_tds = [0, 10, 100, 200, 300, 400, 500, 600, 700, 800, 900, 1000, 1100]\n",
    "df['tds_binned'] = pd.cut(df['TDS'], bins_tds)"
   ]
  },
  {
   "cell_type": "code",
   "execution_count": 54,
   "id": "dcd7a617",
   "metadata": {},
   "outputs": [
    {
     "data": {
      "text/plain": [
       "(0, 10]           0\n",
       "(200, 300]        0\n",
       "(400, 500]        0\n",
       "(600, 700]        0\n",
       "(100, 200]        2\n",
       "(500, 600]        2\n",
       "(300, 400]        4\n",
       "(700, 800]       25\n",
       "(800, 900]      117\n",
       "(1000, 1100]    163\n",
       "(900, 1000]     211\n",
       "(10, 100]       318\n",
       "Name: tds_binned, dtype: int64"
      ]
     },
     "execution_count": 54,
     "metadata": {},
     "output_type": "execute_result"
    }
   ],
   "source": [
    "df['tds_binned'].value_counts().sort_values(ascending=True)"
   ]
  },
  {
   "cell_type": "markdown",
   "id": "cf2b7933",
   "metadata": {},
   "source": [
    "## Temperature"
   ]
  },
  {
   "cell_type": "code",
   "execution_count": 55,
   "id": "62c7affb",
   "metadata": {},
   "outputs": [],
   "source": [
    "bins_temp = [0, 10, 20, 30, 40, 50 ]\n",
    "df['temp_binned'] = pd.cut(df['Temperature'], bins_temp)"
   ]
  },
  {
   "cell_type": "code",
   "execution_count": 56,
   "id": "baf07aa7",
   "metadata": {},
   "outputs": [
    {
     "data": {
      "text/plain": [
       "(0, 10]       0\n",
       "(10, 20]      0\n",
       "(40, 50]     92\n",
       "(20, 30]    371\n",
       "(30, 40]    397\n",
       "Name: temp_binned, dtype: int64"
      ]
     },
     "execution_count": 56,
     "metadata": {},
     "output_type": "execute_result"
    }
   ],
   "source": [
    "df['temp_binned'].value_counts().sort_values(ascending=True)"
   ]
  },
  {
   "cell_type": "markdown",
   "id": "8549b16a",
   "metadata": {},
   "source": [
    "# 3. Are there outliers that either need explanation or dropping? "
   ]
  },
  {
   "cell_type": "code",
   "execution_count": 107,
   "id": "91ece41a",
   "metadata": {
    "scrolled": true
   },
   "outputs": [
    {
     "data": {
      "text/plain": [
       "<AxesSubplot:xlabel='Temperature'>"
      ]
     },
     "execution_count": 107,
     "metadata": {},
     "output_type": "execute_result"
    },
    {
     "data": {
      "image/png": "[encoded data removed]",
      "text/plain": [
       "<Figure size 1080x360 with 1 Axes>"
      ]
     },
     "metadata": {
      "needs_background": "light"
     },
     "output_type": "display_data"
    }
   ],
   "source": [
    "plt.figure(figsize=(15,5))\n",
    "sns.boxplot(x=df['Temperature'])"
   ]
  },
  {
   "cell_type": "code",
   "execution_count": 106,
   "id": "fdae12c5",
   "metadata": {},
   "outputs": [
    {
     "data": {
      "text/plain": [
       "<AxesSubplot:xlabel='Humidity'>"
      ]
     },
     "execution_count": 106,
     "metadata": {},
     "output_type": "execute_result"
    },
    {
     "data": {
      "image/png": "[encoded data removed]",
      "text/plain": [
       "<Figure size 1080x360 with 1 Axes>"
      ]
     },
     "metadata": {
      "needs_background": "light"
     },
     "output_type": "display_data"
    }
   ],
   "source": [
    "plt.figure(figsize=(15,5))\n",
    "sns.boxplot(x=df['Humidity'])"
   ]
  },
  {
   "cell_type": "code",
   "execution_count": 105,
   "id": "8af6429a",
   "metadata": {},
   "outputs": [
    {
     "data": {
      "text/plain": [
       "<AxesSubplot:xlabel='TDS'>"
      ]
     },
     "execution_count": 105,
     "metadata": {},
     "output_type": "execute_result"
    },
    {
     "data": {
      "image/png": "[encoded data removed]",
      "text/plain": [
       "<Figure size 1080x360 with 1 Axes>"
      ]
     },
     "metadata": {
      "needs_background": "light"
     },
     "output_type": "display_data"
    }
   ],
   "source": [
    "plt.figure(figsize=(15,5))\n",
    "sns.boxplot(x=df['TDS'])"
   ]
  },
  {
   "cell_type": "markdown",
   "id": "b62d6430",
   "metadata": {},
   "source": [
    "# 4. What about records with missing values?"
   ]
  },
  {
   "cell_type": "code",
   "execution_count": 119,
   "id": "4efb7011",
   "metadata": {},
   "outputs": [
    {
     "data": {
      "text/plain": [
       "<AxesSubplot:>"
      ]
     },
     "execution_count": 119,
     "metadata": {},
     "output_type": "execute_result"
    },
    {
     "data": {
      "image/png": "[encoded data removed]",
      "text/plain": [
       "<Figure size 1800x720 with 2 Axes>"
      ]
     },
     "metadata": {
      "needs_background": "light"
     },
     "output_type": "display_data"
    }
   ],
   "source": [
    "#There are no missing values, because they are handled at source. \n",
    "msno.matrix(df.iloc[:, :4])"
   ]
  },
  {
   "cell_type": "code",
   "execution_count": null,
   "id": "92ae17b7",
   "metadata": {},
   "outputs": [],
   "source": []
  }
 ],
 "metadata": {
  "kernelspec": {
   "display_name": "Python 3",
   "language": "python",
   "name": "python3"
  },
  "language_info": {
   "codemirror_mode": {
    "name": "ipython",
    "version": 3
   },
   "file_extension": ".py",
   "mimetype": "text/x-python",
   "name": "python",
   "nbconvert_exporter": "python",
   "pygments_lexer": "ipython3",
   "version": "3.8.8"
  }
 },
 "nbformat": 4,
 "nbformat_minor": 5
}
